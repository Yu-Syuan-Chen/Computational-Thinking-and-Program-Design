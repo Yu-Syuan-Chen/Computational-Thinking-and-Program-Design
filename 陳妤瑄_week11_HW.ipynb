{
  "nbformat": 4,
  "nbformat_minor": 0,
  "metadata": {
    "colab": {
      "name": "陳妤瑄-week11-HW.ipynb",
      "provenance": [],
      "authorship_tag": "ABX9TyNk8FhQW2OUSWOAm5HjWAcT",
      "include_colab_link": true
    },
    "kernelspec": {
      "name": "python3",
      "display_name": "Python 3"
    }
  },
  "cells": [
    {
      "cell_type": "markdown",
      "metadata": {
        "id": "view-in-github",
        "colab_type": "text"
      },
      "source": [
        "<a href=\"https://colab.research.google.com/github/Yu-Syuan-Chen/Computational-Thinking-and-Program-Design/blob/master/%E9%99%B3%E5%A6%A4%E7%91%84_week11_HW.ipynb\" target=\"_parent\"><img src=\"https://colab.research.google.com/assets/colab-badge.svg\" alt=\"Open In Colab\"/></a>"
      ]
    },
    {
      "cell_type": "code",
      "metadata": {
        "id": "3pfbFIl39z_I"
      },
      "source": [
        "names = [\"陳妤瑄\", \"游佳樺\", \"林嘉欣\", \"簡郁虹\", \"王子維\", \"林郁婷\"]\r\n",
        "dessert = [\"磅蛋糕\", \"舒芙蕾\", \"提拉米蘇\", \"乳酪蛋糕\", \"奶酪\", \"奶凍捲\"]\r\n",
        "for i in range(len(names)):\r\n",
        "    print(\"Hi,my name is\",names[i],\".My favorite dessert is\",dessert[i])\r\n",
        "    \r\n",
        "a=int(input('請輸入開始值:'))\r\n",
        "n=int(input('請輸入終止值:'))\r\n",
        "s=int(input(\"請輸入遞增值:\"))\r\n",
        "sum=0\r\n",
        "for n in range(a,n+1,s):\r\n",
        "    sum=sum+n**2\r\n",
        "    print('n為', n, '時，累加結果為', sum)"
      ],
      "execution_count": null,
      "outputs": []
    }
  ]
}